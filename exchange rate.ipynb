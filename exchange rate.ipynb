{
 "cells": [
  {
   "cell_type": "code",
   "execution_count": 17,
   "metadata": {},
   "outputs": [
    {
     "name": "stdout",
     "output_type": "stream",
     "text": [
      "最新掛牌的賣出匯率: 0.2126\n",
      "遠期 10 天賣出匯率: 0.2106\n",
      "遠期 30 天賣出匯率: 0.2109\n"
     ]
    }
   ],
   "source": [
    "from os import listdir\n",
    "import requests\n",
    "from bs4 import BeautifulSoup\n",
    "\n",
    "chrome_version = listdir(r'C:\\Program Files\\Google\\Chrome\\Application')[0].split('.')[0]\n",
    "header = {'User-Agent': f'Mozilla/5.0 (Windows NT 10.0; Win64; x64) AppleWebKit/537.36 (KHTML, like Gecko) Chrome/{chrome_version}.0.0.0 Safari/537.36'}\n",
    "\n",
    "ur2 = 'https://rate.bot.com.tw/xrt?Lang=zh-TW'\n",
    "r = requests.get(ur2, headers=header)\n",
    "r.encoding = 'UTF-8' # 指定編碼方式，utf-8、UTF-8、UTF8、utf8 都一樣\n",
    "soup = BeautifulSoup(r.text, 'html.parser')\n",
    "soup\n",
    "\n",
    "# 找到所有貨幣的表格行 (tr)\n",
    "rows = soup.find_all('tr')\n",
    "\n",
    "# 遍歷每一行，尋找包含「日圓 (JPY)」的行\n",
    "for row in rows:\n",
    "    currency_td = row.find('td', class_=\"currency phone-small-font\", attrs={'data-table': '幣別'})\n",
    "    if currency_td and \"日圓 (JPY)\" in currency_td.text:\n",
    "        # 找到該行中的現金賣出匯率\n",
    "        cash_sell_td = row.find('td', class_=\"rate-content-cash text-right print_hide\", attrs={'data-table': '本行現金賣出'})\n",
    "        if cash_sell_td:\n",
    "            jpy_cash_sell_rate = cash_sell_td.text.strip()\n",
    "            print(\"最新掛牌的賣出匯率:\", jpy_cash_sell_rate)\n",
    "            break\n",
    "\n",
    "\n",
    "url = 'https://rate.bot.com.tw/xrt/forward/JPY'\n",
    "r = requests.get(url, headers=header)\n",
    "r.encoding = 'UTF-8' # 指定編碼方式，utf-8、UTF-8、UTF8、utf8 都一樣\n",
    "soup = BeautifulSoup(r.text, 'html.parser')\n",
    "soup\n",
    "\n",
    "# 確保抓取的 HTML 正確\n",
    "if soup:\n",
    "    # 找到所有 <td> 元素\n",
    "    td_elements = soup.find_all('td')\n",
    "\n",
    "    # 定位 \"遠期 10 天\" 並取後面兩個元素 (買入與賣出匯率)\n",
    "    for i, td in enumerate(td_elements):\n",
    "        if td.text.strip() == \"遠期 10 天\":\n",
    "            sell_rate = td_elements[i + 2].text.strip()  # 第三個欄位為賣出匯率\n",
    "            print(f\"遠期 10 天賣出匯率: {sell_rate}\")\n",
    "            break\n",
    "else:\n",
    "    print(\"無法取得目標網頁內容，請檢查 URL 或網路連線！\")\n",
    "\n",
    "# 確保抓取的 HTML 正確\n",
    "if soup:\n",
    "    # 找到所有 <td> 元素\n",
    "    td_elements = soup.find_all('td')\n",
    "\n",
    "    # 定位 \"遠期 10 天\" 並取後面兩個元素 (買入與賣出匯率)\n",
    "    for i, td in enumerate(td_elements):\n",
    "        if td.text.strip() == \"遠期 30 天\":\n",
    "            sell_rate = td_elements[i + 2].text.strip()  # 第三個欄位為賣出匯率\n",
    "            print(f\"遠期 30 天賣出匯率: {sell_rate}\")\n",
    "            break\n",
    "else:\n",
    "    print(\"無法取得目標網頁內容，請檢查 URL 或網路連線！\")\n",
    "\n",
    "\n"
   ]
  }
 ],
 "metadata": {
  "kernelspec": {
   "display_name": "Python 3",
   "language": "python",
   "name": "python3"
  },
  "language_info": {
   "codemirror_mode": {
    "name": "ipython",
    "version": 3
   },
   "file_extension": ".py",
   "mimetype": "text/x-python",
   "name": "python",
   "nbconvert_exporter": "python",
   "pygments_lexer": "ipython3",
   "version": "3.12.4"
  }
 },
 "nbformat": 4,
 "nbformat_minor": 2
}
